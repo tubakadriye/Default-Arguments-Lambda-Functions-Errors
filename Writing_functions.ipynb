{
 "cells": [
  {
   "cell_type": "markdown",
   "id": "f3f1b524-0053-42c9-ab97-cbdc34cc525c",
   "metadata": {},
   "source": [
    "## Datacamp\n",
    "### Python Datascience Toolbox1\n",
    "#### Writing Functions\n",
    "Kadriye Tuba Türkcan Karaca"
   ]
  },
  {
   "cell_type": "code",
   "execution_count": 1,
   "id": "631a53b3-66cd-4c33-b45f-5beb0bc0c082",
   "metadata": {},
   "outputs": [],
   "source": [
    "x=4.89"
   ]
  },
  {
   "cell_type": "code",
   "execution_count": 2,
   "id": "50929e36-4281-41ef-81c1-334f7cd3f36d",
   "metadata": {},
   "outputs": [],
   "source": [
    "y1 = str(x)"
   ]
  },
  {
   "cell_type": "code",
   "execution_count": 3,
   "id": "4c9bac30-de34-4e5d-b07a-7f0dc83dfa91",
   "metadata": {},
   "outputs": [
    {
     "name": "stdout",
     "output_type": "stream",
     "text": [
      "4.89\n"
     ]
    }
   ],
   "source": [
    "y2 = print(x)"
   ]
  },
  {
   "cell_type": "code",
   "execution_count": 4,
   "id": "0818c49a-beaf-421b-87ee-86564ddbf619",
   "metadata": {},
   "outputs": [
    {
     "data": {
      "text/plain": [
       "NoneType"
      ]
     },
     "execution_count": 4,
     "metadata": {},
     "output_type": "execute_result"
    }
   ],
   "source": [
    "type(y2)"
   ]
  },
  {
   "cell_type": "markdown",
   "id": "79b4982e-b610-4dbe-8ae7-8bdfcea5cf40",
   "metadata": {},
   "source": [
    "Assigning a variable y2 to a function that prints a value but does not return a value will result in that variable y2 being of type NoneType."
   ]
  },
  {
   "cell_type": "markdown",
   "id": "ea95d4ad-16a7-4d3a-bcd6-045765d11408",
   "metadata": {},
   "source": [
    "## Write a simple function\n",
    "Define a function, shout(), which simply prints out a string with three exclamation marks '!!!' at the end."
   ]
  },
  {
   "cell_type": "code",
   "execution_count": 5,
   "id": "f9886e31-4a12-4196-9a20-274a1a1b0922",
   "metadata": {},
   "outputs": [
    {
     "name": "stdout",
     "output_type": "stream",
     "text": [
      "congratulations!!!\n"
     ]
    }
   ],
   "source": [
    "# Define the function shout\n",
    "def shout():\n",
    "    \"\"\"Print a string with three exclamation marks\"\"\"\n",
    "    # Concatenate the strings: shout_word\n",
    "    shout_word = 'congratulations' + '!!!'\n",
    "\n",
    "    # Print shout_word\n",
    "    print(shout_word)\n",
    "\n",
    "# Call shout\n",
    "shout()"
   ]
  },
  {
   "cell_type": "markdown",
   "id": "bcc01ab3-2882-4c8c-8b81-eddded134629",
   "metadata": {},
   "source": [
    "## Single-parameter functions\n",
    "\n",
    "We will now update shout() by adding a parameter so that it can accept and process any string argument passed to it. Also shout(word), the part of the header that specifies the function name and parameter(s), is known as the signature of the function. We may encounter this term in the wild!\n"
   ]
  },
  {
   "cell_type": "code",
   "execution_count": 6,
   "id": "22d35365-dbda-4f65-837c-71575d281eb6",
   "metadata": {},
   "outputs": [
    {
     "name": "stdout",
     "output_type": "stream",
     "text": [
      "congratulations!!!\n"
     ]
    }
   ],
   "source": [
    "# Define shout with the parameter, word\n",
    "def shout(word):\n",
    "    \"\"\"Print a string with three exclamation marks\"\"\"\n",
    "    # Concatenate the strings: shout_word\n",
    "    shout_word = word + '!!!'\n",
    "\n",
    "    # Print shout_word\n",
    "    print(shout_word)\n",
    "\n",
    "# Call shout with the string 'congratulations'\n",
    "\n",
    "shout('congratulations')"
   ]
  },
  {
   "cell_type": "markdown",
   "id": "d2b23be6-cc9b-4017-a9f8-67c0f35d406d",
   "metadata": {},
   "source": [
    "## Functions that return single values\n"
   ]
  },
  {
   "cell_type": "code",
   "execution_count": 7,
   "id": "bc084efe-6f77-4fd4-a9d5-a6d95e64ce79",
   "metadata": {},
   "outputs": [
    {
     "name": "stdout",
     "output_type": "stream",
     "text": [
      "congratulations!!!\n"
     ]
    }
   ],
   "source": [
    "# Define shout with the parameter, word\n",
    "def shout(word):\n",
    "    \"\"\"Return a string with three exclamation marks\"\"\"\n",
    "    # Concatenate the strings: shout_word\n",
    "    shout_word = word + '!!!'\n",
    "\n",
    "    # Replace print with return\n",
    "    return shout_word\n",
    "\n",
    "# Pass 'congratulations' to shout: yell\n",
    "yell = shout('congratulations')\n",
    "\n",
    "# Print yell\n",
    "print(yell)"
   ]
  },
  {
   "cell_type": "markdown",
   "id": "5d167ab4-2e43-4dd1-9816-346b8cf4450d",
   "metadata": {},
   "source": [
    "## Functions with multiple parameters\n"
   ]
  },
  {
   "cell_type": "code",
   "execution_count": 8,
   "id": "5c1d9a25-766c-4820-a3a8-ce962e762974",
   "metadata": {},
   "outputs": [
    {
     "name": "stdout",
     "output_type": "stream",
     "text": [
      "congratulations!!!you!!!\n"
     ]
    }
   ],
   "source": [
    "# Define shout with parameters word1 and word2\n",
    "def shout(word1, word2):\n",
    "    \"\"\"Concatenate strings with three exclamation marks\"\"\"\n",
    "    # Concatenate word1 with '!!!': shout1\n",
    "    shout1 = word1 + '!!!'\n",
    "    \n",
    "    # Concatenate word2 with '!!!': shout2\n",
    "    shout2 = word2  + '!!!'\n",
    "    \n",
    "    # Concatenate shout1 with shout2: new_shout\n",
    "    new_shout = shout1 + shout2\n",
    "\n",
    "    # Return new_shout\n",
    "    return new_shout\n",
    "\n",
    "# Pass 'congratulations' and 'you' to shout(): yell\n",
    "yell = shout('congratulations' , 'you')\n",
    "\n",
    "# Print yell\n",
    "print(yell)"
   ]
  },
  {
   "cell_type": "markdown",
   "id": "b98b1693-cb07-4899-8be1-9ee4b5803b5e",
   "metadata": {},
   "source": [
    "## Tuples"
   ]
  },
  {
   "cell_type": "code",
   "execution_count": 9,
   "id": "854d8903-54c5-4d24-8af4-775e1be3d870",
   "metadata": {},
   "outputs": [],
   "source": [
    "nums = (3,4,6)"
   ]
  },
  {
   "cell_type": "code",
   "execution_count": 10,
   "id": "d628ebef-2082-4f7a-ae70-cefe71d50359",
   "metadata": {},
   "outputs": [],
   "source": [
    "# Unpack nums into num1, num2, and num3\n",
    "\n",
    "num1 , num2 , num3 = nums"
   ]
  },
  {
   "cell_type": "code",
   "execution_count": 11,
   "id": "66db0573-c4fe-4f47-8319-31f75d987729",
   "metadata": {},
   "outputs": [],
   "source": [
    "# Construct even_nums\n",
    "\n",
    "even_nums = (2,4,6)"
   ]
  },
  {
   "cell_type": "code",
   "execution_count": 12,
   "id": "87e04934-fe12-4ecd-bc2d-019b0f358468",
   "metadata": {},
   "outputs": [
    {
     "ename": "TypeError",
     "evalue": "'tuple' object does not support item assignment",
     "output_type": "error",
     "traceback": [
      "\u001b[0;31m---------------------------------------------------------------------------\u001b[0m",
      "\u001b[0;31mTypeError\u001b[0m                                 Traceback (most recent call last)",
      "Cell \u001b[0;32mIn [12], line 1\u001b[0m\n\u001b[0;32m----> 1\u001b[0m \u001b[43mnums\u001b[49m\u001b[43m[\u001b[49m\u001b[38;5;241;43m0\u001b[39;49m\u001b[43m]\u001b[49m \u001b[38;5;241m=\u001b[39m \u001b[38;5;241m2\u001b[39m\n",
      "\u001b[0;31mTypeError\u001b[0m: 'tuple' object does not support item assignment"
     ]
    }
   ],
   "source": [
    "nums[0] = 2"
   ]
  },
  {
   "cell_type": "markdown",
   "id": "8b13c214-0a37-4a0e-b356-bf3bea856d69",
   "metadata": {},
   "source": [
    "## Functions that return multiple values"
   ]
  },
  {
   "cell_type": "code",
   "execution_count": 13,
   "id": "e5d56fda-aef3-47c3-bb4d-ecba37f75303",
   "metadata": {},
   "outputs": [
    {
     "name": "stdout",
     "output_type": "stream",
     "text": [
      "congratulations!!!\n",
      "you!!!\n"
     ]
    }
   ],
   "source": [
    "# Define shout_all with parameters word1 and word2\n",
    "def shout_all(word1, word2):\n",
    "    \n",
    "    # Concatenate word1 with '!!!': shout1\n",
    "    \n",
    "    shout1 = word1 + '!!!'\n",
    "    # Concatenate word2 with '!!!': shout2\n",
    "    \n",
    "    shout2 = word2 + '!!!'\n",
    "    # Construct a tuple with shout1 and shout2: shout_words\n",
    "    \n",
    "    shout_words = (shout1, shout2)\n",
    "    # Return shout_words\n",
    "    return shout_words\n",
    "\n",
    "# Pass 'congratulations' and 'you' to shout_all(): yell1, yell2\n",
    "yell1 , yell2 = shout_all('congratulations', 'you')\n",
    "\n",
    "# Print yell1 and yell2\n",
    "print(yell1)\n",
    "print(yell2)"
   ]
  },
  {
   "cell_type": "markdown",
   "id": "44b31334-015e-4012-9655-c88a77b97363",
   "metadata": {},
   "source": [
    "## Twitter Data\n",
    "The dataset contains Twitter data and you will iterate over entries in a column to build a dictionary in which the keys are the names of languages and the values are the number of tweets in the given language. \n",
    "Be aware that this is real data from Twitter and as such there is always a risk that it may contain profanity or other offensive content (in this exercise, and any following exercises that also use real Twitter data)."
   ]
  },
  {
   "cell_type": "markdown",
   "id": "9109bebc-f1e2-4c98-b6c9-3d1e8256c2e6",
   "metadata": {},
   "source": [
    "Import the pandas package with the alias pd.\n",
    "\n",
    "Import the file 'tweets.csv' using the pandas function read_csv(). Assign the resulting DataFrame to df.\n",
    "\n",
    "Complete the for loop by iterating over col, the 'lang' column in the DataFrame df.\n",
    "\n",
    "Complete the bodies of the if-else statements in the for loop: if the key is in the dictionary langs_count, add 1 to the value corresponding to this key in the dictionary, else add the key to langs_count and set the corresponding value to 1. Use the loop variable entry in your code."
   ]
  },
  {
   "cell_type": "code",
   "execution_count": 14,
   "id": "ce0d2848-0927-4325-9306-78524a422bcb",
   "metadata": {},
   "outputs": [],
   "source": [
    "# Import pandas\n",
    "import pandas as pd\n"
   ]
  },
  {
   "cell_type": "code",
   "execution_count": 23,
   "id": "f509058d-6b5b-44af-ad92-145409f1e39c",
   "metadata": {},
   "outputs": [],
   "source": [
    "# Import Twitter data as DataFrame: df\n",
    "tweets_df = pd.read_csv('tweets.csv')\n"
   ]
  },
  {
   "cell_type": "code",
   "execution_count": 16,
   "id": "50576401-ea2e-45a7-9393-1e0e1e3fd7c9",
   "metadata": {},
   "outputs": [],
   "source": [
    "# Initialize an empty dictionary: langs_count\n",
    "langs_count = {}"
   ]
  },
  {
   "cell_type": "code",
   "execution_count": 24,
   "id": "96ca070d-fe51-4c4b-85cf-dd96b57c5ad4",
   "metadata": {},
   "outputs": [],
   "source": [
    "# Extract column from DataFrame: col\n",
    "col = tweets_df['lang']"
   ]
  },
  {
   "cell_type": "code",
   "execution_count": 25,
   "id": "fb1dc98f-269d-4234-9476-99b7c2c816a4",
   "metadata": {},
   "outputs": [
    {
     "data": {
      "text/plain": [
       "0     en\n",
       "1     en\n",
       "2     et\n",
       "3     en\n",
       "4     en\n",
       "      ..\n",
       "95    en\n",
       "96    en\n",
       "97    en\n",
       "98    en\n",
       "99    en\n",
       "Name: lang, Length: 100, dtype: object"
      ]
     },
     "execution_count": 25,
     "metadata": {},
     "output_type": "execute_result"
    }
   ],
   "source": [
    "col"
   ]
  },
  {
   "cell_type": "code",
   "execution_count": 21,
   "id": "657d32b0-3c4a-4bcb-9483-1ef9c08ddf3d",
   "metadata": {},
   "outputs": [
    {
     "data": {
      "text/plain": [
       "dict_keys([])"
      ]
     },
     "execution_count": 21,
     "metadata": {},
     "output_type": "execute_result"
    }
   ],
   "source": [
    "langs_count.keys()"
   ]
  },
  {
   "cell_type": "markdown",
   "id": "98e0b01e-2b19-475d-b0ed-d1897a47c1cc",
   "metadata": {},
   "source": [
    "To add 1 to the value of a key entry in a dictionary d, use d[entry] += 1. To add a new key to d and set its value to 1, use d[entry] = 1."
   ]
  },
  {
   "cell_type": "code",
   "execution_count": 26,
   "id": "806a1902-110c-4dee-8d4b-2ebb0c375802",
   "metadata": {},
   "outputs": [
    {
     "name": "stdout",
     "output_type": "stream",
     "text": [
      "{'en': 194, 'et': 2, 'und': 4}\n"
     ]
    }
   ],
   "source": [
    "# Iterate over lang column in DataFrame\n",
    "for entry in col:\n",
    "\n",
    "    # If the language is in langs_count, add 1 \n",
    "    if entry in langs_count.keys():\n",
    "        langs_count[entry]+=1\n",
    "    # Else add the language to langs_count, set the value to 1\n",
    "    else:\n",
    "        langs_count[entry]=1\n",
    "\n",
    "# Print the populated dictionary\n",
    "print(langs_count)"
   ]
  },
  {
   "cell_type": "markdown",
   "id": "584fbb02-88a9-4ae0-8ec0-3f24d5809b1a",
   "metadata": {},
   "source": [
    "* Define the function count_entries(), which has two parameters. The first parameter is df for the DataFrame and the second is col_name for the column name.\n",
    "* Complete the bodies of the if-else statements in the for loop: if the key is in the dictionary langs_count, add 1 to its current value, else add the key to langs_count and set its value to 1. Use the loop variable entry in your code.\n",
    "* Return the langs_count dictionary from inside the count_entries() function.\n",
    "* Call the count_entries() function by passing to it tweets_df and the name of the column, 'lang'. Assign the result of the call to the variable result."
   ]
  },
  {
   "cell_type": "code",
   "execution_count": 27,
   "id": "157a17b8-880d-459e-9877-ed77db989ae7",
   "metadata": {},
   "outputs": [
    {
     "name": "stdout",
     "output_type": "stream",
     "text": [
      "{'en': 97, 'et': 1, 'und': 2}\n"
     ]
    }
   ],
   "source": [
    "# Define count_entries()\n",
    "def count_entries(df, col_name):\n",
    "    \"\"\"Return a dictionary with counts of \n",
    "    occurrences as value for each key.\"\"\"\n",
    "\n",
    "    # Initialize an empty dictionary: langs_count\n",
    "    langs_count = {}\n",
    "    \n",
    "    # Extract column from DataFrame: col\n",
    "    col = df[col_name]\n",
    "    \n",
    "    # Iterate over lang column in DataFrame\n",
    "    for entry in col:\n",
    "\n",
    "        # If the language is in langs_count, add 1\n",
    "        if entry in langs_count.keys():\n",
    "            langs_count[entry] +=1\n",
    "        # Else add the language to langs_count, set the value to 1\n",
    "        else:\n",
    "            langs_count[entry] = 1\n",
    "\n",
    "    # Return the langs_count dictionary\n",
    "    return langs_count\n",
    "\n",
    "# Call count_entries(): result\n",
    "\n",
    "result = count_entries(tweets_df, 'lang')\n",
    "# Print the result\n",
    "print(result)"
   ]
  },
  {
   "cell_type": "code",
   "execution_count": null,
   "id": "d6309e3d-0ba3-4f0d-b72a-0bd0ba5671a6",
   "metadata": {},
   "outputs": [],
   "source": []
  }
 ],
 "metadata": {
  "kernelspec": {
   "display_name": "Python 3 (ipykernel)",
   "language": "python",
   "name": "python3"
  },
  "language_info": {
   "codemirror_mode": {
    "name": "ipython",
    "version": 3
   },
   "file_extension": ".py",
   "mimetype": "text/x-python",
   "name": "python",
   "nbconvert_exporter": "python",
   "pygments_lexer": "ipython3",
   "version": "3.9.6"
  }
 },
 "nbformat": 4,
 "nbformat_minor": 5
}
